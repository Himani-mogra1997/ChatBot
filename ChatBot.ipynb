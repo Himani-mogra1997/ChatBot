{
 "cells": [
  {
   "cell_type": "markdown",
   "metadata": {},
   "source": [
    "We are working on the chatbot wikipidea data"
   ]
  },
  {
   "cell_type": "code",
   "execution_count": 1,
   "metadata": {},
   "outputs": [],
   "source": [
    "#importing all the necessary libraries\n",
    "import nltk\n",
    "import numpy as np\n",
    "import random\n",
    "import string"
   ]
  },
  {
   "cell_type": "code",
   "execution_count": 2,
   "metadata": {},
   "outputs": [
    {
     "name": "stderr",
     "output_type": "stream",
     "text": [
      "[nltk_data] Downloading package punkt to C:\\Users\\Himani\n",
      "[nltk_data]     Mogra\\AppData\\Roaming\\nltk_data...\n",
      "[nltk_data]   Package punkt is already up-to-date!\n",
      "[nltk_data] Downloading package wordnet to C:\\Users\\Himani\n",
      "[nltk_data]     Mogra\\AppData\\Roaming\\nltk_data...\n",
      "[nltk_data]   Package wordnet is already up-to-date!\n"
     ]
    }
   ],
   "source": [
    "#opening the file from which we had to read and then making tokens\n",
    "f=open('chatbot.txt','r',errors='ignore')\n",
    "raw=f.read()\n",
    "nltk.download('punkt')\n",
    "nltk.download('wordnet')\n",
    "sent_tokens=nltk.sent_tokenize(raw)\n",
    "word_tokens=nltk.word_tokenize(raw)"
   ]
  },
  {
   "cell_type": "code",
   "execution_count": 3,
   "metadata": {},
   "outputs": [
    {
     "data": {
      "text/plain": [
       "['\\nChatbot\\nFrom Wikipedia, the free encyclopedia\\nJump to navigationJump to search\\nFor other uses, see Chatbot (disambiguation).',\n",
       " 'A virtual assistant chatbot\\nELIZA conversation.jpg\\nA chatbot is a software application used to conduct an on-line chat conversation via text or text-to-speech, in lieu of providing direct contact with a live human agent.']"
      ]
     },
     "execution_count": 3,
     "metadata": {},
     "output_type": "execute_result"
    }
   ],
   "source": [
    "sent_tokens[:2]"
   ]
  },
  {
   "cell_type": "code",
   "execution_count": 4,
   "metadata": {},
   "outputs": [
    {
     "data": {
      "text/plain": [
       "['Chatbot', 'From']"
      ]
     },
     "execution_count": 4,
     "metadata": {},
     "output_type": "execute_result"
    }
   ],
   "source": [
    "word_tokens[:2]"
   ]
  },
  {
   "cell_type": "code",
   "execution_count": 5,
   "metadata": {},
   "outputs": [],
   "source": [
    "lemmer=nltk.stem.WordNetLemmatizer()\n",
    "\n",
    "def LemTokens(tokens):\n",
    "    return [lemmer.lemmatize(token) for token in tokens]\n",
    "remove_punc_dict=dict((ord(punc),None) for punc in string.punctuation)\n",
    "\n",
    "def LemNormalize(text):\n",
    "    return LemTokens(nltk.word_tokenize(text.lower().translate(remove_punc_dict)))"
   ]
  },
  {
   "cell_type": "code",
   "execution_count": 6,
   "metadata": {},
   "outputs": [],
   "source": [
    "#handling the greeting words \n",
    "Greeting_input=[\"hello\",\"hi\",\"ssup\",\"greetings\",\"what's up\",\"hey\"]\n",
    "Greeting_output=[\"hi\",\"hey\",\"nods\",\"hey! there\",\"hello\",\"Hello,I'm glad,you are talking to me!\"]\n",
    "def greeting(sentence):\n",
    "    for word in sentence.split():\n",
    "        if word.lower() in Greeting_input:\n",
    "            return random.choice(Greeting_output)"
   ]
  },
  {
   "cell_type": "code",
   "execution_count": 7,
   "metadata": {},
   "outputs": [],
   "source": [
    "from sklearn.feature_extraction.text import TfidfVectorizer\n",
    "from sklearn.metrics.pairwise import cosine_similarity"
   ]
  },
  {
   "cell_type": "code",
   "execution_count": 8,
   "metadata": {},
   "outputs": [],
   "source": [
    "def response(user_response):\n",
    "    rob_response=''\n",
    "    sent_tokens.append(user_response)\n",
    "    tfidfvec=TfidfVectorizer(tokenizer=LemNormalize,stop_words=\"english\")\n",
    "    tfidf=tfidfvec.fit_transform(sent_tokens)\n",
    "    vals=cosine_similarity(tfidf[-1],tfidf)\n",
    "    idx=vals.argsort()[0][-2]\n",
    "    flat=vals.flatten()\n",
    "    flat.sort()\n",
    "    req_tfidf=flat[-2]\n",
    "    if(req_tfidf==0):\n",
    "        rob_response=rob_response+\"I am sorry! I didn't get you\"\n",
    "        return rob_response\n",
    "    else:\n",
    "        rob_response=rob_response+sent_tokens[idx]\n",
    "        return rob_response\n",
    "    "
   ]
  },
  {
   "cell_type": "code",
   "execution_count": 11,
   "metadata": {},
   "outputs": [
    {
     "name": "stdout",
     "output_type": "stream",
     "text": [
      "Chatbot : Hey There My name is TalkBot! I can help you with the chatbots.If you want to quit to can just type Bye anytime! !\n",
      "hi\n",
      "TalkBot : nods\n",
      "hello\n",
      "TalkBot : hey\n",
      "ssup\n",
      "TalkBot : hey\n",
      "who is alan turning\n",
      "TalkBot :  [6]\n",
      "\n",
      "\n",
      "Contents\n",
      "1\tBackground\n",
      "2\tDevelopment\n",
      "3\tApplication\n",
      "3.1\tMessaging apps\n",
      "3.1.1\tAs part of company apps and websites\n",
      "3.1.2\tChatbot sequences\n",
      "3.2\tCompany internal platforms\n",
      "3.3\tCustomer Service\n",
      "3.4\tHealthcare\n",
      "3.5\tPolitics\n",
      "3.6\tToys\n",
      "4\tMalicious use\n",
      "5\tLimitations of Chatbots\n",
      "6\tChatbots and jobs\n",
      "7\tSee also\n",
      "8\tReferences\n",
      "8.1\tFurther reading\n",
      "Background\n",
      "In 1950, Alan Turing's famous article \"Computing Machinery and Intelligence\" was published,[7] which proposed what is now called the Turing test as a criterion of intelligence.\n",
      "thanks\n",
      "TalkBot : You're Welcome!\n"
     ]
    }
   ],
   "source": [
    "flag=True\n",
    "print(\"Chatbot : Hey There My name is TalkBot! I can help you with the chatbots.If you want to quit to can just type Bye anytime! !\")\n",
    "while flag==True:\n",
    "    user_response=input()\n",
    "    user_response=user_response.lower()\n",
    "    if user_response!=\"bye\":\n",
    "        if(user_response==\"thanks\" or user_response==\"thank you\"):\n",
    "            flag=False\n",
    "            print(\"TalkBot : You're Welcome!\")\n",
    "        else:\n",
    "            if(greeting(user_response)!=None):\n",
    "                print(\"TalkBot : \"+greeting(user_response))\n",
    "            else:\n",
    "                print(\"TalkBot : \",end=\" \")\n",
    "                print(response(user_response))\n",
    "                sent_tokens.remove(user_response)\n",
    "    else:\n",
    "        flag=False\n",
    "        print(\"TalkBot : Thanks for talking,Bye-Bye!\")"
   ]
  },
  {
   "cell_type": "code",
   "execution_count": null,
   "metadata": {},
   "outputs": [],
   "source": []
  }
 ],
 "metadata": {
  "kernelspec": {
   "display_name": "Python 3",
   "language": "python",
   "name": "python3"
  },
  "language_info": {
   "codemirror_mode": {
    "name": "ipython",
    "version": 3
   },
   "file_extension": ".py",
   "mimetype": "text/x-python",
   "name": "python",
   "nbconvert_exporter": "python",
   "pygments_lexer": "ipython3",
   "version": "3.7.3"
  }
 },
 "nbformat": 4,
 "nbformat_minor": 2
}
